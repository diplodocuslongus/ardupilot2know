{
 "cells": [
  {
   "cell_type": "markdown",
   "metadata": {},
   "source": [
    "# Load Ardupilot .bin log files\n",
    "\n",
    "These logs contains 2 chuncks of data.\n",
    "\n",
    "- PARM: list of parameters that can be set and their values\n",
    "- then there's messages, that is the values of what is actually logged (ex: battery voltage, GPS, IMU...)\n",
    "\n",
    "\n",
    "## TODO: \n",
    "- document and comments"
   ]
  },
  {
   "cell_type": "code",
   "execution_count": 1,
   "metadata": {},
   "outputs": [],
   "source": [
    "%matplotlib inline"
   ]
  },
  {
   "cell_type": "code",
   "execution_count": 1,
   "metadata": {},
   "outputs": [],
   "source": [
    "from ardupilot_log_reader.reader import Ardupilot\n",
    "# import pandas as pd\n",
    "# import numpy as np\n",
    "import matplotlib.pyplot as plt\n",
    "import os\n",
    "# import utm\n",
    "# import math\n",
    "\n",
    "from numpy.random import RandomState\n",
    "\n",
    "# import random # for the canon "
   ]
  },
  {
   "cell_type": "code",
   "execution_count": 2,
   "metadata": {},
   "outputs": [],
   "source": [
    "HOME = os.getenv(\"HOME\")\n",
    "PATH2FILES = f'{HOME}/Data/Drones/Flight_Logs'\n",
    "LOGNAME = '2024-05-30_10-42-49_noIMU.bin'\n",
    "FULLNAME = f'{PATH2FILES}/{LOGNAME}'"
   ]
  },
  {
   "cell_type": "code",
   "execution_count": 11,
   "metadata": {},
   "outputs": [],
   "source": [
    "\n",
    "# parser = Ardupilot.parse(FULLNAME,types=['XKF1','XKF2','GPS','VISP', 'VISV', 'NOT_A_MESSAGE']) # adding a type not present in the log don't raise an error\n",
    "parser = Ardupilot.parse(FULLNAME,types=['XKF1','XKF2','GPS','VISP', 'VISV','MAG'])\n"
   ]
  },
  {
   "cell_type": "code",
   "execution_count": 12,
   "metadata": {},
   "outputs": [
    {
     "data": {
      "text/plain": [
       "dict"
      ]
     },
     "execution_count": 12,
     "metadata": {},
     "output_type": "execute_result"
    }
   ],
   "source": [
    "type(parser.dfs)"
   ]
  },
  {
   "cell_type": "code",
   "execution_count": 13,
   "metadata": {},
   "outputs": [
    {
     "name": "stdout",
     "output_type": "stream",
     "text": [
      "dict_keys(['PARM', 'VISP', 'VISV', 'GPS', 'MAG', 'XKF1', 'XKF2'])\n"
     ]
    }
   ],
   "source": [
    "print(parser.dfs.keys())"
   ]
  },
  {
   "cell_type": "code",
   "execution_count": 5,
   "metadata": {},
   "outputs": [
    {
     "name": "stdout",
     "output_type": "stream",
     "text": [
      "{'PARM':          timestamp     TimeUS             Name     Value  Default\n",
      "0     1.717037e+09  264862224   FORMAT_VERSION     120.0    120.0\n",
      "1     1.717037e+09  264862239    SYSID_THISMAV       1.0      1.0\n",
      "2     1.717037e+09  264862255      SYSID_MYGCS     255.0    255.0\n",
      "3     1.717037e+09  264862322   PILOT_THR_FILT       0.0      0.0\n",
      "4     1.717037e+09  264862340  PILOT_TKOFF_ALT       0.0      0.0\n",
      "...            ...        ...              ...       ...      ...\n",
      "1025  1.717037e+09  457770048     STAT_RUNTIME  112282.0      NaN\n",
      "1026  1.717037e+09  487770337     STAT_FLTTIME    4600.0      NaN\n",
      "1027  1.717037e+09  487773100     STAT_RUNTIME  112312.0      NaN\n",
      "1028  1.717037e+09  518768851     STAT_RUNTIME  112343.0      NaN\n",
      "1029  1.717037e+09  548772670     STAT_RUNTIME  112373.0      NaN\n",
      "\n",
      "[1030 rows x 5 columns], 'VISP':          timestamp     TimeUS           RTimeUS  CTimeMS           PX  \\\n",
      "0     1.717037e+09  264911906  1716964424716487   264908    -0.195806   \n",
      "1     1.717037e+09  264960113  1716964424765768   264958    -0.196072   \n",
      "2     1.717037e+09  265012499  1716964424817206   265009    -0.196303   \n",
      "3     1.717037e+09  265060759  1716964424866595   265058    -0.196538   \n",
      "4     1.717037e+09  265110672  1716964424915680   265107    -0.196712   \n",
      "...            ...        ...               ...      ...          ...   \n",
      "4499  1.717037e+09  489842662  1716964649647018   489838  2180.416992   \n",
      "4500  1.717037e+09  489889497  1716964649696162   489887  2180.483398   \n",
      "4501  1.717037e+09  489942463  1716964649746882   489938  2180.549316   \n",
      "4502  1.717037e+09  489992445  1716964649797649   489989  2180.611084   \n",
      "4503  1.717037e+09  490042746  1716964649849771   490041  2180.692627   \n",
      "\n",
      "              PY          PZ         R         P          Y  PErr  AErr  Rst  \\\n",
      "0      -0.109221   -0.102843  3.275280 -3.250204   0.204403   0.5   0.3    0   \n",
      "1      -0.109307   -0.102948  3.273161 -3.252345   0.204572   0.5   0.3    0   \n",
      "2      -0.109392   -0.103049  3.269599 -3.253773   0.208139   0.5   0.3    0   \n",
      "3      -0.109488   -0.103143  3.266454 -3.255278   0.210100   0.5   0.3    0   \n",
      "4      -0.109574   -0.103183  3.267471 -3.254833   0.208120   0.5   0.3    0   \n",
      "...          ...         ...       ...       ...        ...   ...   ...  ...   \n",
      "4499  692.249817  158.750900 -2.904052 -9.673104  69.278793   0.5   0.3    0   \n",
      "4500  692.404480  158.749008 -3.016289 -9.671083  69.298546   0.5   0.3    0   \n",
      "4501  692.585266  158.760880 -3.019713 -9.653453  69.316360   0.5   0.3    0   \n",
      "4502  692.747253  158.771042 -3.027857 -9.628342  69.333778   0.5   0.3    0   \n",
      "4503  693.028381  158.804886 -2.894931 -9.625823  69.346581   0.5   0.3    0   \n",
      "\n",
      "      Ign  Q  \n",
      "0       0  0  \n",
      "1       0  0  \n",
      "2       0  0  \n",
      "3       0  0  \n",
      "4       0  0  \n",
      "...   ... ..  \n",
      "4499    0  0  \n",
      "4500    0  0  \n",
      "4501    0  0  \n",
      "4502    0  0  \n",
      "4503    0  0  \n",
      "\n",
      "[4504 rows x 15 columns], 'VISV':          timestamp     TimeUS           RTimeUS  CTimeMS        VX        VY  \\\n",
      "0     1.717037e+09  264912093  1716964424716522   264908 -0.000827  0.001344   \n",
      "1     1.717037e+09  264960339  1716964424765798   264958 -0.001090  0.001138   \n",
      "2     1.717037e+09  265012825  1716964424817237   265009 -0.001015  0.001159   \n",
      "3     1.717037e+09  265060932  1716964424866623   265058 -0.001059  0.000744   \n",
      "4     1.717037e+09  265110899  1716964424915711   265108 -0.000898  0.000380   \n",
      "...            ...        ...               ...      ...       ...       ...   \n",
      "4499  1.717037e+09  489842824  1716964649647048   489838  1.540815  4.547993   \n",
      "4500  1.717037e+09  489889745  1716964649696191   489887  1.524032  4.421861   \n",
      "4501  1.717037e+09  489942727  1716964649746912   489938  1.505512  4.362039   \n",
      "4502  1.717037e+09  489992737  1716964649797679   489989  1.479072  4.268604   \n",
      "4503  1.717037e+09  490042990  1716964649849802   490041  1.491498  4.424110   \n",
      "\n",
      "            VZ  VErr  Rst  Ign  Q  \n",
      "0    -0.000732   0.5    0    0  0  \n",
      "1    -0.001017   0.5    0    0  0  \n",
      "2    -0.001171   0.5    0    0  0  \n",
      "3    -0.000922   0.5    0    0  0  \n",
      "4    -0.000188   0.5    0    0  0  \n",
      "...        ...   ...  ...  ... ..  \n",
      "4499  0.347845   0.5    0    0  0  \n",
      "4500  0.309490   0.5    0    0  0  \n",
      "4501  0.304738   0.5    0    0  0  \n",
      "4502  0.296279   0.5    0    0  0  \n",
      "4503  0.337405   0.5    0    0  0  \n",
      "\n",
      "[4504 rows x 11 columns], 'GPS':          timestamp     TimeUS  I  Status        GMS   GWk  NSats  HDop  \\\n",
      "0     1.717037e+09  264932392  0       4  355387400  2316     14  0.86   \n",
      "1     1.717037e+09  265133428  0       4  355387600  2316     14  0.86   \n",
      "2     1.717037e+09  265333650  0       4  355387800  2316     14  0.86   \n",
      "3     1.717037e+09  265533440  0       4  355388000  2316     14  0.86   \n",
      "4     1.717037e+09  265733315  0       4  355388200  2316     14  0.86   \n",
      "...            ...        ... ..     ...        ...   ...    ...   ...   \n",
      "1121  1.717037e+09  489144668  0       4  355611600  2316     16  0.75   \n",
      "1122  1.717037e+09  489344906  0       4  355611800  2316     16  0.75   \n",
      "1123  1.717037e+09  489544844  0       4  355612000  2316     16  0.75   \n",
      "1124  1.717037e+09  489744638  0       4  355612200  2316     16  0.75   \n",
      "1125  1.717037e+09  489944644  0       4  355612400  2316     16  0.75   \n",
      "\n",
      "            Lat         Lng     Alt    Spd       GCrs     VZ  Yaw  U  \n",
      "0     24.774148  121.043972  137.32  0.053   0.000000 -0.047  0.0  1  \n",
      "1     24.774148  121.043972  137.39  0.027   0.000000 -0.006  0.0  1  \n",
      "2     24.774148  121.043972  137.45  0.022   0.000000 -0.033  0.0  1  \n",
      "3     24.774148  121.043971  137.51  0.048   0.000000 -0.048  0.0  1  \n",
      "4     24.774148  121.043971  137.57  0.040   0.000000 -0.036  0.0  1  \n",
      "...         ...         ...     ...    ...        ...    ...  ... ..  \n",
      "1121  24.774116  121.043968  135.98  0.035  85.769531 -0.053  0.0  1  \n",
      "1122  24.774116  121.043968  136.00  0.017  85.769531  0.034  0.0  1  \n",
      "1123  24.774115  121.043968  136.01  0.024  85.769531 -0.043  0.0  1  \n",
      "1124  24.774115  121.043968  136.02  0.040  85.769531 -0.080  0.0  1  \n",
      "1125  24.774115  121.043968  136.02  0.032  85.769531 -0.051  0.0  1  \n",
      "\n",
      "[1126 rows x 16 columns], 'XKF1':          timestamp     TimeUS  C  Roll  Pitch     Yaw        VN        VE  \\\n",
      "0     1.717037e+09  264956629  0  5.10  -1.63  312.80  0.054496 -0.015042   \n",
      "1     1.717037e+09  265057317  0  5.10  -1.63  312.80  0.055236 -0.016058   \n",
      "2     1.717037e+09  265157340  0  5.11  -1.63  312.79  0.055285 -0.015878   \n",
      "3     1.717037e+09  265257322  0  5.11  -1.63  312.79  0.053144 -0.014788   \n",
      "4     1.717037e+09  265357320  0  5.11  -1.63  312.78  0.050395 -0.013332   \n",
      "...            ...        ... ..   ...    ...     ...       ...       ...   \n",
      "2246  1.717037e+09  489568727  0  0.87  -3.64  273.41 -0.016503 -0.014947   \n",
      "2247  1.717037e+09  489668684  0  0.87  -3.64  273.41 -0.015654 -0.015418   \n",
      "2248  1.717037e+09  489768722  0  0.87  -3.64  273.40 -0.015742 -0.015327   \n",
      "2249  1.717037e+09  489868707  0  0.87  -3.64  273.40 -0.016806 -0.014506   \n",
      "2250  1.717037e+09  489968696  0  0.87  -3.64  273.39 -0.017911 -0.013777   \n",
      "\n",
      "            VD       dPD        PN        PE        PD    GX    GY    GZ  \\\n",
      "0    -0.010752  0.001934  1.222669  1.801769  0.816954  0.89 -0.19  0.05   \n",
      "1    -0.011359 -0.010708  1.222378  1.786685  0.815739  0.89 -0.19  0.05   \n",
      "2    -0.011445 -0.014423  1.222525  1.773978  0.814608  0.89 -0.19  0.05   \n",
      "3    -0.011528 -0.012531  1.220131  1.760108  0.813581  0.89 -0.19  0.05   \n",
      "4    -0.011464 -0.011829  1.218319  1.748147  0.812359  0.89 -0.19  0.05   \n",
      "...        ...       ...       ...       ...       ...   ...   ...   ...   \n",
      "2246  0.018667  0.011526 -2.441414  1.090103  0.862456  0.94 -0.20  0.08   \n",
      "2247  0.017966 -0.012147 -2.443443  1.086172  0.861391  0.94 -0.20  0.08   \n",
      "2248  0.016893 -0.016565 -2.445900  1.082854  0.859952  0.94 -0.20  0.08   \n",
      "2249  0.016303 -0.030404 -2.449850  1.079857  0.857544  0.94 -0.20  0.08   \n",
      "2250  0.015118 -0.022712 -2.453811  1.077268  0.855663  0.94 -0.20  0.08   \n",
      "\n",
      "          OH  \n",
      "0     138.17  \n",
      "1     138.17  \n",
      "2     138.17  \n",
      "3     138.17  \n",
      "4     138.17  \n",
      "...      ...  \n",
      "2246  138.17  \n",
      "2247  138.17  \n",
      "2248  138.17  \n",
      "2249  138.17  \n",
      "2250  138.17  \n",
      "\n",
      "[2251 rows x 17 columns], 'XKF2':          timestamp     TimeUS  C    AX    AY    AZ  VWN  VWE   MN  ME   MD  \\\n",
      "0     1.717037e+09  264956629  0  0.00  0.00  0.01  0.0  0.0  366 -30  272   \n",
      "1     1.717037e+09  265057317  0  0.00  0.00  0.01  0.0  0.0  366 -30  272   \n",
      "2     1.717037e+09  265157340  0  0.00  0.00  0.01  0.0  0.0  366 -30  272   \n",
      "3     1.717037e+09  265257322  0  0.00  0.00  0.01  0.0  0.0  366 -30  272   \n",
      "4     1.717037e+09  265357320  0  0.01  0.01  0.01  0.0  0.0  366 -30  272   \n",
      "...            ...        ... ..   ...   ...   ...  ...  ...  ...  ..  ...   \n",
      "2246  1.717037e+09  489568727  0  0.03  0.06  0.01  0.0  0.0  366 -30  272   \n",
      "2247  1.717037e+09  489668684  0  0.03  0.06  0.01  0.0  0.0  366 -30  272   \n",
      "2248  1.717037e+09  489768722  0  0.03  0.06  0.01  0.0  0.0  366 -30  272   \n",
      "2249  1.717037e+09  489868707  0  0.03  0.06  0.01  0.0  0.0  366 -30  272   \n",
      "2250  1.717037e+09  489968696  0  0.03  0.06  0.01  0.0  0.0  366 -30  272   \n",
      "\n",
      "      MX  MY  MZ  IDX  IDY   IS  \n",
      "0      0   0   0  0.0  0.0  0.0  \n",
      "1      0   0   0  0.0  0.0  0.0  \n",
      "2      0   0   0  0.0  0.0  0.0  \n",
      "3      0   0   0  0.0  0.0  0.0  \n",
      "4      0   0   0  0.0  0.0  0.0  \n",
      "...   ..  ..  ..  ...  ...  ...  \n",
      "2246   0   0   0  0.0  0.0  0.0  \n",
      "2247   0   0   0  0.0  0.0  0.0  \n",
      "2248   0   0   0  0.0  0.0  0.0  \n",
      "2249   0   0   0  0.0  0.0  0.0  \n",
      "2250   0   0   0  0.0  0.0  0.0  \n",
      "\n",
      "[2251 rows x 17 columns]}\n"
     ]
    }
   ],
   "source": [
    "print(parser.dfs)"
   ]
  },
  {
   "cell_type": "code",
   "execution_count": 7,
   "metadata": {},
   "outputs": [
    {
     "name": "stdout",
     "output_type": "stream",
     "text": [
      "         timestamp     TimeUS             Name     Value  Default\n",
      "0     1.717037e+09  264862224   FORMAT_VERSION     120.0    120.0\n",
      "1     1.717037e+09  264862239    SYSID_THISMAV       1.0      1.0\n",
      "2     1.717037e+09  264862255      SYSID_MYGCS     255.0    255.0\n",
      "3     1.717037e+09  264862322   PILOT_THR_FILT       0.0      0.0\n",
      "4     1.717037e+09  264862340  PILOT_TKOFF_ALT       0.0      0.0\n",
      "...            ...        ...              ...       ...      ...\n",
      "1025  1.717037e+09  457770048     STAT_RUNTIME  112282.0      NaN\n",
      "1026  1.717037e+09  487770337     STAT_FLTTIME    4600.0      NaN\n",
      "1027  1.717037e+09  487773100     STAT_RUNTIME  112312.0      NaN\n",
      "1028  1.717037e+09  518768851     STAT_RUNTIME  112343.0      NaN\n",
      "1029  1.717037e+09  548772670     STAT_RUNTIME  112373.0      NaN\n",
      "\n",
      "[1030 rows x 5 columns]\n"
     ]
    }
   ],
   "source": [
    "print(parser.dfs['PARM'])"
   ]
  },
  {
   "cell_type": "code",
   "execution_count": 8,
   "metadata": {},
   "outputs": [
    {
     "name": "stdout",
     "output_type": "stream",
     "text": [
      "       timestamp     TimeUS              Name     Value   Default\n",
      "0   1.717037e+09  264862224    FORMAT_VERSION     120.0     120.0\n",
      "1   1.717037e+09  264862239     SYSID_THISMAV       1.0       1.0\n",
      "2   1.717037e+09  264862255       SYSID_MYGCS     255.0     255.0\n",
      "3   1.717037e+09  264862322    PILOT_THR_FILT       0.0       0.0\n",
      "4   1.717037e+09  264862340   PILOT_TKOFF_ALT       0.0       0.0\n",
      "5   1.717037e+09  264862360     PILOT_THR_BHV       0.0       0.0\n",
      "6   1.717037e+09  264862379      SERIAL0_BAUD     115.0     115.0\n",
      "7   1.717037e+09  264862428  SERIAL0_PROTOCOL       2.0       2.0\n",
      "8   1.717037e+09  264862449  SERIAL1_PROTOCOL       2.0       2.0\n",
      "9   1.717037e+09  264862464      SERIAL1_BAUD    1500.0      57.0\n",
      "10  1.717037e+09  264862482  SERIAL2_PROTOCOL       2.0       2.0\n",
      "11  1.717037e+09  264862497      SERIAL2_BAUD      57.0      57.0\n",
      "12  1.717037e+09  264862692  SERIAL3_PROTOCOL       5.0       5.0\n",
      "13  1.717037e+09  264862710      SERIAL3_BAUD     230.0     230.0\n",
      "14  1.717037e+09  264862728  SERIAL4_PROTOCOL      23.0      23.0\n",
      "15  1.717037e+09  264862744      SERIAL4_BAUD     230.0     230.0\n",
      "16  1.717037e+09  264862760  SERIAL5_PROTOCOL      -1.0      -1.0\n",
      "17  1.717037e+09  264862831      SERIAL5_BAUD      57.0      57.0\n",
      "18  1.717037e+09  264862849  SERIAL6_PROTOCOL       2.0       2.0\n",
      "19  1.717037e+09  264862866      SERIAL6_BAUD  115200.0  115200.0\n"
     ]
    }
   ],
   "source": [
    "print(parser.dfs['PARM'][:20])"
   ]
  },
  {
   "cell_type": "code",
   "execution_count": 14,
   "metadata": {},
   "outputs": [
    {
     "name": "stdout",
     "output_type": "stream",
     "text": [
      "         timestamp     TimeUS  I  MagX  MagY  MagZ  OfsX  OfsY  OfsZ  MOX  \\\n",
      "0     1.717037e+09  264951987  0   182   186   246    17    34   147    0   \n",
      "1     1.717037e+09  264951987  1   298   106  -165   903   -94 -1611    0   \n",
      "2     1.717037e+09  265052924  0   174   186   245    17    34   147    0   \n",
      "3     1.717037e+09  265052924  1   292    97  -160   903   -94 -1611    0   \n",
      "4     1.717037e+09  265153033  0   178   185   246    17    34   147    0   \n",
      "...            ...        ... ..   ...   ...   ...   ...   ...   ...  ...   \n",
      "4499  1.717037e+09  489864241  1   262   162  -148   903   -94 -1611    0   \n",
      "4500  1.717037e+09  489964222  0    60   298   386    17    34   147    0   \n",
      "4501  1.717037e+09  489964222  1   263   160  -147   903   -94 -1611    0   \n",
      "4502  1.717037e+09  490064225  0    59   297   385    17    34   147    0   \n",
      "4503  1.717037e+09  490064225  1   259   160  -149   903   -94 -1611    0   \n",
      "\n",
      "      MOY  MOZ  Health          S  \n",
      "0       0    0       1  264951982  \n",
      "1       0    0       1  264951985  \n",
      "2       0    0       1  265052919  \n",
      "3       0    0       1  265052921  \n",
      "4       0    0       1  265153012  \n",
      "...   ...  ...     ...        ...  \n",
      "4499    0    0       1  489864238  \n",
      "4500    0    0       1  489964216  \n",
      "4501    0    0       1  489964219  \n",
      "4502    0    0       1  490064219  \n",
      "4503    0    0       1  490064222  \n",
      "\n",
      "[4504 rows x 14 columns]\n"
     ]
    }
   ],
   "source": [
    "print(parser.dfs['MAG'])"
   ]
  },
  {
   "cell_type": "code",
   "execution_count": 9,
   "metadata": {},
   "outputs": [
    {
     "name": "stdout",
     "output_type": "stream",
     "text": [
      "         timestamp     TimeUS           RTimeUS  CTimeMS        VX        VY  \\\n",
      "0     1.717037e+09  264912093  1716964424716522   264908 -0.000827  0.001344   \n",
      "1     1.717037e+09  264960339  1716964424765798   264958 -0.001090  0.001138   \n",
      "2     1.717037e+09  265012825  1716964424817237   265009 -0.001015  0.001159   \n",
      "3     1.717037e+09  265060932  1716964424866623   265058 -0.001059  0.000744   \n",
      "4     1.717037e+09  265110899  1716964424915711   265108 -0.000898  0.000380   \n",
      "...            ...        ...               ...      ...       ...       ...   \n",
      "4499  1.717037e+09  489842824  1716964649647048   489838  1.540815  4.547993   \n",
      "4500  1.717037e+09  489889745  1716964649696191   489887  1.524032  4.421861   \n",
      "4501  1.717037e+09  489942727  1716964649746912   489938  1.505512  4.362039   \n",
      "4502  1.717037e+09  489992737  1716964649797679   489989  1.479072  4.268604   \n",
      "4503  1.717037e+09  490042990  1716964649849802   490041  1.491498  4.424110   \n",
      "\n",
      "            VZ  VErr  Rst  Ign  Q  \n",
      "0    -0.000732   0.5    0    0  0  \n",
      "1    -0.001017   0.5    0    0  0  \n",
      "2    -0.001171   0.5    0    0  0  \n",
      "3    -0.000922   0.5    0    0  0  \n",
      "4    -0.000188   0.5    0    0  0  \n",
      "...        ...   ...  ...  ... ..  \n",
      "4499  0.347845   0.5    0    0  0  \n",
      "4500  0.309490   0.5    0    0  0  \n",
      "4501  0.304738   0.5    0    0  0  \n",
      "4502  0.296279   0.5    0    0  0  \n",
      "4503  0.337405   0.5    0    0  0  \n",
      "\n",
      "[4504 rows x 11 columns]\n"
     ]
    }
   ],
   "source": [
    "print(parser.dfs['VISV'])"
   ]
  },
  {
   "cell_type": "code",
   "execution_count": 10,
   "metadata": {},
   "outputs": [
    {
     "name": "stdout",
     "output_type": "stream",
     "text": [
      "         timestamp     TimeUS  I  Status        GMS   GWk  NSats  HDop  \\\n",
      "0     1.717037e+09  264932392  0       4  355387400  2316     14  0.86   \n",
      "1     1.717037e+09  265133428  0       4  355387600  2316     14  0.86   \n",
      "2     1.717037e+09  265333650  0       4  355387800  2316     14  0.86   \n",
      "3     1.717037e+09  265533440  0       4  355388000  2316     14  0.86   \n",
      "4     1.717037e+09  265733315  0       4  355388200  2316     14  0.86   \n",
      "...            ...        ... ..     ...        ...   ...    ...   ...   \n",
      "1121  1.717037e+09  489144668  0       4  355611600  2316     16  0.75   \n",
      "1122  1.717037e+09  489344906  0       4  355611800  2316     16  0.75   \n",
      "1123  1.717037e+09  489544844  0       4  355612000  2316     16  0.75   \n",
      "1124  1.717037e+09  489744638  0       4  355612200  2316     16  0.75   \n",
      "1125  1.717037e+09  489944644  0       4  355612400  2316     16  0.75   \n",
      "\n",
      "            Lat         Lng     Alt    Spd       GCrs     VZ  Yaw  U  \n",
      "0     24.774148  121.043972  137.32  0.053   0.000000 -0.047  0.0  1  \n",
      "1     24.774148  121.043972  137.39  0.027   0.000000 -0.006  0.0  1  \n",
      "2     24.774148  121.043972  137.45  0.022   0.000000 -0.033  0.0  1  \n",
      "3     24.774148  121.043971  137.51  0.048   0.000000 -0.048  0.0  1  \n",
      "4     24.774148  121.043971  137.57  0.040   0.000000 -0.036  0.0  1  \n",
      "...         ...         ...     ...    ...        ...    ...  ... ..  \n",
      "1121  24.774116  121.043968  135.98  0.035  85.769531 -0.053  0.0  1  \n",
      "1122  24.774116  121.043968  136.00  0.017  85.769531  0.034  0.0  1  \n",
      "1123  24.774115  121.043968  136.01  0.024  85.769531 -0.043  0.0  1  \n",
      "1124  24.774115  121.043968  136.02  0.040  85.769531 -0.080  0.0  1  \n",
      "1125  24.774115  121.043968  136.02  0.032  85.769531 -0.051  0.0  1  \n",
      "\n",
      "[1126 rows x 16 columns]\n"
     ]
    }
   ],
   "source": [
    "print(parser.dfs['GPS'])"
   ]
  },
  {
   "cell_type": "code",
   "execution_count": 3,
   "metadata": {},
   "outputs": [
    {
     "name": "stdout",
     "output_type": "stream",
     "text": [
      "        timestamp     TimeUS           Name  Value  Default\n",
      "74   1.717037e+09  264866885  FS_EKF_ACTION    1.0      1.0\n",
      "75   1.717037e+09  264866897  FS_EKF_THRESH    0.8      0.8\n",
      "405  1.717037e+09  264894882  AHRS_EKF_TYPE    3.0      3.0\n",
      "965  1.717037e+09  265043942    FS_EKF_FILT    5.0      5.0\n"
     ]
    }
   ],
   "source": [
    "mydf = parser.dfs['PARM']\n",
    "print(mydf[mydf['Name'].str.contains('KF')])"
   ]
  },
  {
   "cell_type": "code",
   "execution_count": 4,
   "metadata": {},
   "outputs": [
    {
     "name": "stdout",
     "output_type": "stream",
     "text": [
      "        timestamp     TimeUS          Name  Value  Default\n",
      "590  1.717037e+09  264910058  EK3_IMU_MASK    1.0      3.0\n"
     ]
    }
   ],
   "source": [
    "\n",
    "print(mydf[mydf['Name'].str.contains('IMU')])"
   ]
  },
  {
   "cell_type": "code",
   "execution_count": 15,
   "metadata": {},
   "outputs": [],
   "source": [
    "mydf_gps = parser.dfs['GPS']\n",
    "mydf_visp = parser.dfs['VISP']\n",
    "mydf_mag = parser.dfs['MAG']"
   ]
  },
  {
   "cell_type": "code",
   "execution_count": 15,
   "metadata": {},
   "outputs": [
    {
     "name": "stdout",
     "output_type": "stream",
     "text": [
      "      timestamp     TimeUS  I  Status        GMS   GWk  NSats  HDop  \\\n",
      "0  1.717037e+09  264932392  0       4  355387400  2316     14  0.86   \n",
      "1  1.717037e+09  265133428  0       4  355387600  2316     14  0.86   \n",
      "2  1.717037e+09  265333650  0       4  355387800  2316     14  0.86   \n",
      "3  1.717037e+09  265533440  0       4  355388000  2316     14  0.86   \n",
      "4  1.717037e+09  265733315  0       4  355388200  2316     14  0.86   \n",
      "5  1.717037e+09  265933329  0       4  355388400  2316     14  0.86   \n",
      "6  1.717037e+09  266133257  0       4  355388600  2316     14  0.86   \n",
      "7  1.717037e+09  266333402  0       4  355388800  2316     14  0.86   \n",
      "8  1.717037e+09  266533387  0       4  355389000  2316     14  0.86   \n",
      "9  1.717037e+09  266733363  0       4  355389200  2316     14  0.86   \n",
      "\n",
      "         Lat         Lng     Alt    Spd  GCrs     VZ  Yaw  U  \n",
      "0  24.774148  121.043972  137.32  0.053   0.0 -0.047  0.0  1  \n",
      "1  24.774148  121.043972  137.39  0.027   0.0 -0.006  0.0  1  \n",
      "2  24.774148  121.043972  137.45  0.022   0.0 -0.033  0.0  1  \n",
      "3  24.774148  121.043971  137.51  0.048   0.0 -0.048  0.0  1  \n",
      "4  24.774148  121.043971  137.57  0.040   0.0 -0.036  0.0  1  \n",
      "5  24.774148  121.043971  137.64  0.045   0.0  0.012  0.0  1  \n",
      "6  24.774148  121.043971  137.71  0.060   0.0  0.049  0.0  1  \n",
      "7  24.774148  121.043970  137.78  0.004   0.0 -0.002  0.0  1  \n",
      "8  24.774148  121.043970  137.82  0.032   0.0 -0.004  0.0  1  \n",
      "9  24.774148  121.043970  137.87  0.037   0.0  0.053  0.0  1  \n"
     ]
    }
   ],
   "source": [
    "print(mydf_gps[:10])"
   ]
  },
  {
   "cell_type": "code",
   "execution_count": 7,
   "metadata": {},
   "outputs": [
    {
     "name": "stdout",
     "output_type": "stream",
     "text": [
      "0       0.0\n",
      "1       0.0\n",
      "2       0.0\n",
      "3       0.0\n",
      "4       0.0\n",
      "       ... \n",
      "1121    0.0\n",
      "1122    0.0\n",
      "1123    0.0\n",
      "1124    0.0\n",
      "1125    0.0\n",
      "Name: Yaw, Length: 1126, dtype: float64\n"
     ]
    }
   ],
   "source": [
    "print(mydf_gps['Yaw'])"
   ]
  },
  {
   "cell_type": "code",
   "execution_count": 8,
   "metadata": {},
   "outputs": [
    {
     "name": "stdout",
     "output_type": "stream",
     "text": [
      "0       14\n",
      "1       14\n",
      "2       14\n",
      "3       14\n",
      "4       14\n",
      "        ..\n",
      "1121    16\n",
      "1122    16\n",
      "1123    16\n",
      "1124    16\n",
      "1125    16\n",
      "Name: NSats, Length: 1126, dtype: int64\n"
     ]
    }
   ],
   "source": [
    "print(mydf_gps['NSats'])"
   ]
  },
  {
   "cell_type": "code",
   "execution_count": 9,
   "metadata": {},
   "outputs": [],
   "source": [
    "nsats = mydf_gps['NSats'].to_numpy()"
   ]
  },
  {
   "cell_type": "code",
   "execution_count": 12,
   "metadata": {},
   "outputs": [
    {
     "data": {
      "text/plain": [
       "[<matplotlib.lines.Line2D at 0x7633de7bdea0>]"
      ]
     },
     "execution_count": 12,
     "metadata": {},
     "output_type": "execute_result"
    },
    {
     "data": {
      "image/png": "[encoded data removed]",
      "text/plain": [
       "<Figure size 640x480 with 1 Axes>"
      ]
     },
     "metadata": {},
     "output_type": "display_data"
    }
   ],
   "source": [
    "fig,ax = plt.subplots(1)\n",
    "ax.plot(nsats)"
   ]
  },
  {
   "cell_type": "code",
   "execution_count": 31,
   "metadata": {},
   "outputs": [
    {
     "data": {
      "text/plain": [
       "pandas.core.series.Series"
      ]
     },
     "execution_count": 31,
     "metadata": {},
     "output_type": "execute_result"
    }
   ],
   "source": [
    "type(mydf_gps['NSats'])"
   ]
  },
  {
   "cell_type": "code",
   "execution_count": 16,
   "metadata": {},
   "outputs": [
    {
     "name": "stdout",
     "output_type": "stream",
     "text": [
      "      timestamp     TimeUS           RTimeUS  CTimeMS        PX        PY  \\\n",
      "0  1.717037e+09  264911906  1716964424716487   264908 -0.195806 -0.109221   \n",
      "1  1.717037e+09  264960113  1716964424765768   264958 -0.196072 -0.109307   \n",
      "2  1.717037e+09  265012499  1716964424817206   265009 -0.196303 -0.109392   \n",
      "3  1.717037e+09  265060759  1716964424866595   265058 -0.196538 -0.109488   \n",
      "4  1.717037e+09  265110672  1716964424915680   265107 -0.196712 -0.109574   \n",
      "5  1.717037e+09  265160771  1716964424965471   265157 -0.196892 -0.109655   \n",
      "6  1.717037e+09  265210753  1716964425015935   265208 -0.196997 -0.109714   \n",
      "7  1.717037e+09  265260759  1716964425066580   265258 -0.197081 -0.109782   \n",
      "8  1.717037e+09  265313281  1716964425118131   265310 -0.197157 -0.109833   \n",
      "9  1.717037e+09  265360829  1716964425165975   265358 -0.197160 -0.109870   \n",
      "\n",
      "         PZ         R         P         Y  PErr  AErr  Rst  Ign  Q  \n",
      "0 -0.102843  3.275280 -3.250204  0.204403   0.5   0.3    0    0  0  \n",
      "1 -0.102948  3.273161 -3.252345  0.204572   0.5   0.3    0    0  0  \n",
      "2 -0.103049  3.269599 -3.253773  0.208139   0.5   0.3    0    0  0  \n",
      "3 -0.103143  3.266454 -3.255278  0.210100   0.5   0.3    0    0  0  \n",
      "4 -0.103183  3.267471 -3.254833  0.208120   0.5   0.3    0    0  0  \n",
      "5 -0.103199  3.265994 -3.256994  0.207510   0.5   0.3    0    0  0  \n",
      "6 -0.103197  3.267336 -3.258706  0.208087   0.5   0.3    0    0  0  \n",
      "7 -0.103217  3.268028 -3.259775  0.206522   0.5   0.3    0    0  0  \n",
      "8 -0.103242  3.270521 -3.260423  0.204288   0.5   0.3    0    0  0  \n",
      "9 -0.103233  3.270000 -3.262135  0.201797   0.5   0.3    0    0  0  \n"
     ]
    }
   ],
   "source": [
    "print(mydf_visp[:10])"
   ]
  },
  {
   "cell_type": "code",
   "execution_count": 17,
   "metadata": {},
   "outputs": [
    {
     "name": "stdout",
     "output_type": "stream",
     "text": [
      "0   -0.195806\n",
      "1   -0.196072\n",
      "2   -0.196303\n",
      "3   -0.196538\n",
      "4   -0.196712\n",
      "5   -0.196892\n",
      "6   -0.196997\n",
      "7   -0.197081\n",
      "8   -0.197157\n",
      "9   -0.197160\n",
      "Name: PX, dtype: float64\n"
     ]
    }
   ],
   "source": [
    "print(mydf_visp[:10]['PX'])"
   ]
  },
  {
   "cell_type": "code",
   "execution_count": 18,
   "metadata": {},
   "outputs": [
    {
     "name": "stdout",
     "output_type": "stream",
     "text": [
      "0   -0.195806\n",
      "1   -0.196072\n",
      "2   -0.196303\n",
      "3   -0.196538\n",
      "4   -0.196712\n",
      "5   -0.196892\n",
      "6   -0.196997\n",
      "7   -0.197081\n",
      "8   -0.197157\n",
      "9   -0.197160\n",
      "Name: PX, dtype: float64\n"
     ]
    }
   ],
   "source": [
    "print(mydf_visp['PX'][:10])"
   ]
  },
  {
   "cell_type": "code",
   "execution_count": 19,
   "metadata": {},
   "outputs": [],
   "source": [
    "px,py,pz = mydf_visp['PX'], mydf_visp['PY'], mydf_visp['PZ']"
   ]
  },
  {
   "cell_type": "code",
   "execution_count": 23,
   "metadata": {},
   "outputs": [
    {
     "data": {
      "image/png": "[encoded data removed]",
      "text/plain": [
       "<Figure size 640x480 with 1 Axes>"
      ]
     },
     "metadata": {},
     "output_type": "display_data"
    }
   ],
   "source": [
    "fig,ax = plt.subplots(1)\n",
    "ax.plot(px,py)\n",
    "plt.show()"
   ]
  },
  {
   "cell_type": "code",
   "execution_count": 21,
   "metadata": {},
   "outputs": [],
   "source": [
    "plt.show()"
   ]
  },
  {
   "cell_type": "code",
   "execution_count": 17,
   "metadata": {},
   "outputs": [],
   "source": [
    "magx,magy,magz = mydf_mag['MagX'], mydf_mag['MagY'], mydf_mag['MagZ']"
   ]
  },
  {
   "cell_type": "code",
   "execution_count": 25,
   "metadata": {},
   "outputs": [
    {
     "data": {
      "image/png": "[encoded data removed]",
      "text/plain": [
       "<Figure size 640x480 with 1 Axes>"
      ]
     },
     "metadata": {},
     "output_type": "display_data"
    }
   ],
   "source": [
    "fig,ax = plt.subplots(1)\n",
    "ax.plot(magx,'r')\n",
    "# ax.plot(magx[:100],'r')\n",
    "# ax.plot(magy,'g')\n",
    "# ax.plot(magz[:100],'b')\n",
    "plt.show()"
   ]
  },
  {
   "cell_type": "code",
   "execution_count": 24,
   "metadata": {},
   "outputs": [
    {
     "data": {
      "image/png": "[encoded data removed]",
      "text/plain": [
       "<Figure size 640x480 with 1 Axes>"
      ]
     },
     "metadata": {},
     "output_type": "display_data"
    }
   ],
   "source": [
    "fig,ax = plt.subplots(1)\n",
    "# ax.plot(magx,'r')\n",
    "ax.plot(magx[:100],'r')\n",
    "# ax.plot(magy,'g')\n",
    "# ax.plot(magz[:100],'b')\n",
    "plt.show()"
   ]
  },
  {
   "cell_type": "code",
   "execution_count": null,
   "metadata": {},
   "outputs": [],
   "source": []
  }
 ],
 "metadata": {
  "anaconda-cloud": {},
  "kernelspec": {
   "display_name": "Python 3 (ipykernel)",
   "language": "python",
   "name": "python3"
  },
  "language_info": {
   "codemirror_mode": {
    "name": "ipython",
    "version": 3
   },
   "file_extension": ".py",
   "mimetype": "text/x-python",
   "name": "python",
   "nbconvert_exporter": "python",
   "pygments_lexer": "ipython3",
   "version": "3.10.12"
  }
 },
 "nbformat": 4,
 "nbformat_minor": 4
}
